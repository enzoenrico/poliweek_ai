{
 "cells": [
  {
   "cell_type": "code",
   "execution_count": 32,
   "metadata": {},
   "outputs": [],
   "source": [
    "from dotenv import load_dotenv\n",
    "import spotipy\n",
    "from spotipy.oauth2 import SpotifyClientCredentials, SpotifyOAuth\n",
    "import os\n",
    "\n",
    "from typing import List, Dict, Union\n"
   ]
  },
  {
   "cell_type": "code",
   "execution_count": 2,
   "metadata": {},
   "outputs": [],
   "source": [
    "load_dotenv()\n",
    "client_id = os.getenv(\"SPOTIFY_CLIENT_ID\")\n",
    "client_secret = os.getenv(\"SPOTIFY_CLIENT_SECRET\")"
   ]
  },
  {
   "cell_type": "code",
   "execution_count": 3,
   "metadata": {},
   "outputs": [],
   "source": [
    "client_credential_manager = SpotifyOAuth(client_id=client_id, client_secret=client_secret, redirect_uri=\"http://localhost:8888/callback\", scope=\"user-read-playback-state\")\n",
    "\n",
    "sp = spotipy.Spotify(client_credentials_manager=client_credential_manager, )\n"
   ]
  },
  {
   "cell_type": "code",
   "execution_count": 28,
   "metadata": {},
   "outputs": [],
   "source": [
    "\n",
    "def get_recommended_by_genre(genres:List[str]) :\n",
    "    recomends = sp.recommendations(seed_genres=genres, limit=10)\n",
    "    return recomends"
   ]
  },
  {
   "cell_type": "code",
   "execution_count": 36,
   "metadata": {},
   "outputs": [],
   "source": [
    "def get_recommended_by_artist(artist_id:str) -> Union[List[Dict[str, str]], None]:\n",
    "    recomends = sp.recommendations(seed_artists=[artist_id], limit=10)\n",
    "    if recomends and 'tracks' in recomends:\n",
    "        return [{'name': track['name'], 'artist': track['artists'][0]['name']} for track in recomends['tracks']]\n",
    "    return None"
   ]
  },
  {
   "cell_type": "code",
   "execution_count": 33,
   "metadata": {},
   "outputs": [],
   "source": [
    "def get_artist_id(artist_name:str) -> Union[List[str], None]:\n",
    "    results = sp.search(q='artist:' + artist_name, type='artist')\n",
    "    if results:\n",
    "        items = results['artists']['items']\n",
    "        if len(items) > 0:\n",
    "            return items[0]['id']\n",
    "        else:\n",
    "            return None\n",
    "    return None"
   ]
  },
  {
   "cell_type": "code",
   "execution_count": 37,
   "metadata": {},
   "outputs": [
    {
     "name": "stdout",
     "output_type": "stream",
     "text": [
      "id = 5K4W6rqBFWDnAN6FQUkS6x\n",
      "[{'name': 'Empire State Of Mind', 'artist': 'JAY-Z'}, {'name': 'ALL RED', 'artist': 'Playboi Carti'}, {'name': 'Static', 'artist': 'Steve Lacy'}, {'name': 'VULTURES', 'artist': '¥$'}, {'name': 'Watch This - ARIZONATEARS Pluggnb Remix', 'artist': 'Lil Uzi Vert'}, {'name': 'Took Her To The O', 'artist': 'King Von'}, {'name': 'Hell Of A Life', 'artist': 'Kanye West'}, {'name': 'Ransom', 'artist': 'Lil Tecca'}, {'name': 'Lost', 'artist': 'Frank Ocean'}, {'name': 'Tell Em', 'artist': 'Cochise'}]\n"
     ]
    }
   ],
   "source": [
    "artist = get_artist_id(\"kanye west\")\n",
    "print(f\"id = {artist}\")\n",
    "print(get_recommended_by_artist(artist))"
   ]
  },
  {
   "cell_type": "code",
   "execution_count": null,
   "metadata": {},
   "outputs": [],
   "source": []
  },
  {
   "cell_type": "code",
   "execution_count": null,
   "metadata": {},
   "outputs": [],
   "source": []
  }
 ],
 "metadata": {
  "kernelspec": {
   "display_name": "venv",
   "language": "python",
   "name": "python3"
  },
  "language_info": {
   "codemirror_mode": {
    "name": "ipython",
    "version": 3
   },
   "file_extension": ".py",
   "mimetype": "text/x-python",
   "name": "python",
   "nbconvert_exporter": "python",
   "pygments_lexer": "ipython3",
   "version": "3.12.4"
  }
 },
 "nbformat": 4,
 "nbformat_minor": 2
}
